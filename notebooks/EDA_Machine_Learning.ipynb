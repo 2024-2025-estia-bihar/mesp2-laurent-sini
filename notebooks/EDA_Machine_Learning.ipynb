{
 "cells": [
  {
   "metadata": {
    "ExecuteTime": {
     "end_time": "2025-06-02T19:18:56.471449Z",
     "start_time": "2025-06-02T19:18:55.109355Z"
    }
   },
   "cell_type": "code",
   "source": [
    "import sys\n",
    "import os\n",
    "\n",
    "import pandas as pd\n",
    "import numpy as np\n",
    "\n",
    "from model.helpers.open_meteo_helper import convert_to_dataframe\n",
    "from model.helpers.time_series_helper import check_stationarity, check_stationarity_kpss\n",
    "from model.repository.open_meteo_repository import OpenMeteoRepository\n",
    "\n",
    "sys.path.append(\"../../\")  # Remontez au niveau approprié\n",
    "from model.services.open_meteo_service import OpenMeteoService"
   ],
   "id": "c26fe20684586ee6",
   "outputs": [],
   "execution_count": 1
  },
  {
   "metadata": {},
   "cell_type": "markdown",
   "source": "# Exploration et analyse des données - Time Series (ML II)",
   "id": "a54c44510a890ccc"
  },
  {
   "metadata": {},
   "cell_type": "markdown",
   "source": "## Récupération des données",
   "id": "b60602d734464e02"
  },
  {
   "cell_type": "code",
   "id": "initial_id",
   "metadata": {
    "collapsed": true,
    "ExecuteTime": {
     "end_time": "2025-06-02T19:18:56.483351Z",
     "start_time": "2025-06-02T19:18:56.477124Z"
    }
   },
   "source": [
    "openmeteo = OpenMeteoService()\n",
    "op_repository = OpenMeteoRepository()\n",
    "\n",
    "if not os.path.exists('../data/meteo_data.db'):\n",
    "    hourly = openmeteo.get_meteo()\n",
    "    hourly = op_repository.insert_raw_data(hourly)\n",
    "    hourly.head()"
   ],
   "outputs": [],
   "execution_count": 2
  },
  {
   "metadata": {
    "ExecuteTime": {
     "end_time": "2025-06-02T19:18:56.533959Z",
     "start_time": "2025-06-02T19:18:56.489771Z"
    }
   },
   "cell_type": "code",
   "source": [
    "op_repository.find_all_by_table('row')\n",
    "\n",
    "df = convert_to_dataframe(op_repository.find_all_by_table('row'))\n",
    "df.head()"
   ],
   "id": "5a617ab52897bad",
   "outputs": [
    {
     "data": {
      "text/plain": [
       "                   ds        y\n",
       "0 2023-01-01 00:00:00  15.3085\n",
       "1 2023-01-01 01:00:00  15.7085\n",
       "2 2023-01-01 02:00:00  15.7585\n",
       "3 2023-01-01 03:00:00  15.8585\n",
       "4 2023-01-01 04:00:00  15.8085"
      ],
      "text/html": [
       "<div>\n",
       "<style scoped>\n",
       "    .dataframe tbody tr th:only-of-type {\n",
       "        vertical-align: middle;\n",
       "    }\n",
       "\n",
       "    .dataframe tbody tr th {\n",
       "        vertical-align: top;\n",
       "    }\n",
       "\n",
       "    .dataframe thead th {\n",
       "        text-align: right;\n",
       "    }\n",
       "</style>\n",
       "<table border=\"1\" class=\"dataframe\">\n",
       "  <thead>\n",
       "    <tr style=\"text-align: right;\">\n",
       "      <th></th>\n",
       "      <th>ds</th>\n",
       "      <th>y</th>\n",
       "    </tr>\n",
       "  </thead>\n",
       "  <tbody>\n",
       "    <tr>\n",
       "      <th>0</th>\n",
       "      <td>2023-01-01 00:00:00</td>\n",
       "      <td>15.3085</td>\n",
       "    </tr>\n",
       "    <tr>\n",
       "      <th>1</th>\n",
       "      <td>2023-01-01 01:00:00</td>\n",
       "      <td>15.7085</td>\n",
       "    </tr>\n",
       "    <tr>\n",
       "      <th>2</th>\n",
       "      <td>2023-01-01 02:00:00</td>\n",
       "      <td>15.7585</td>\n",
       "    </tr>\n",
       "    <tr>\n",
       "      <th>3</th>\n",
       "      <td>2023-01-01 03:00:00</td>\n",
       "      <td>15.8585</td>\n",
       "    </tr>\n",
       "    <tr>\n",
       "      <th>4</th>\n",
       "      <td>2023-01-01 04:00:00</td>\n",
       "      <td>15.8085</td>\n",
       "    </tr>\n",
       "  </tbody>\n",
       "</table>\n",
       "</div>"
      ]
     },
     "execution_count": 3,
     "metadata": {},
     "output_type": "execute_result"
    }
   ],
   "execution_count": 3
  },
  {
   "metadata": {
    "ExecuteTime": {
     "end_time": "2025-06-02T19:18:56.552021Z",
     "start_time": "2025-06-02T19:18:56.546306Z"
    }
   },
   "cell_type": "code",
   "source": "df.isnull().sum()",
   "id": "e2bbff30e7fec4ec",
   "outputs": [
    {
     "data": {
      "text/plain": [
       "ds    0\n",
       "y     0\n",
       "dtype: int64"
      ]
     },
     "execution_count": 4,
     "metadata": {},
     "output_type": "execute_result"
    }
   ],
   "execution_count": 4
  },
  {
   "metadata": {},
   "cell_type": "markdown",
   "source": "### Simulation des erreurs NaN",
   "id": "8a7d5a64ccffa54b"
  },
  {
   "metadata": {
    "ExecuteTime": {
     "end_time": "2025-06-02T19:18:56.564303Z",
     "start_time": "2025-06-02T19:18:56.561004Z"
    }
   },
   "cell_type": "code",
   "source": [
    "def nan_interpolation_linear(dataframe):\n",
    "    dataframe['y'] = dataframe['y'].interpolate(method='linear')\n",
    "    return dataframe\n"
   ],
   "id": "1b854e3218517e4a",
   "outputs": [],
   "execution_count": 5
  },
  {
   "metadata": {
    "ExecuteTime": {
     "end_time": "2025-06-02T19:18:56.580395Z",
     "start_time": "2025-06-02T19:18:56.571719Z"
    }
   },
   "cell_type": "code",
   "source": [
    "df_na_simulator = df.copy()\n",
    "cols_to_nan = [col for col in df_na_simulator.columns if col != 'ds']\n",
    "\n",
    "df_na_simulator.loc[2:5, cols_to_nan] = np.nan\n",
    "\n",
    "df_na_simulator.head(n=10)"
   ],
   "id": "70c2f52a03fe5639",
   "outputs": [
    {
     "data": {
      "text/plain": [
       "                   ds        y\n",
       "0 2023-01-01 00:00:00  15.3085\n",
       "1 2023-01-01 01:00:00  15.7085\n",
       "2 2023-01-01 02:00:00      NaN\n",
       "3 2023-01-01 03:00:00      NaN\n",
       "4 2023-01-01 04:00:00      NaN\n",
       "5 2023-01-01 05:00:00      NaN\n",
       "6 2023-01-01 06:00:00  14.4585\n",
       "7 2023-01-01 07:00:00  14.4585\n",
       "8 2023-01-01 08:00:00  14.6085\n",
       "9 2023-01-01 09:00:00  14.7085"
      ],
      "text/html": [
       "<div>\n",
       "<style scoped>\n",
       "    .dataframe tbody tr th:only-of-type {\n",
       "        vertical-align: middle;\n",
       "    }\n",
       "\n",
       "    .dataframe tbody tr th {\n",
       "        vertical-align: top;\n",
       "    }\n",
       "\n",
       "    .dataframe thead th {\n",
       "        text-align: right;\n",
       "    }\n",
       "</style>\n",
       "<table border=\"1\" class=\"dataframe\">\n",
       "  <thead>\n",
       "    <tr style=\"text-align: right;\">\n",
       "      <th></th>\n",
       "      <th>ds</th>\n",
       "      <th>y</th>\n",
       "    </tr>\n",
       "  </thead>\n",
       "  <tbody>\n",
       "    <tr>\n",
       "      <th>0</th>\n",
       "      <td>2023-01-01 00:00:00</td>\n",
       "      <td>15.3085</td>\n",
       "    </tr>\n",
       "    <tr>\n",
       "      <th>1</th>\n",
       "      <td>2023-01-01 01:00:00</td>\n",
       "      <td>15.7085</td>\n",
       "    </tr>\n",
       "    <tr>\n",
       "      <th>2</th>\n",
       "      <td>2023-01-01 02:00:00</td>\n",
       "      <td>NaN</td>\n",
       "    </tr>\n",
       "    <tr>\n",
       "      <th>3</th>\n",
       "      <td>2023-01-01 03:00:00</td>\n",
       "      <td>NaN</td>\n",
       "    </tr>\n",
       "    <tr>\n",
       "      <th>4</th>\n",
       "      <td>2023-01-01 04:00:00</td>\n",
       "      <td>NaN</td>\n",
       "    </tr>\n",
       "    <tr>\n",
       "      <th>5</th>\n",
       "      <td>2023-01-01 05:00:00</td>\n",
       "      <td>NaN</td>\n",
       "    </tr>\n",
       "    <tr>\n",
       "      <th>6</th>\n",
       "      <td>2023-01-01 06:00:00</td>\n",
       "      <td>14.4585</td>\n",
       "    </tr>\n",
       "    <tr>\n",
       "      <th>7</th>\n",
       "      <td>2023-01-01 07:00:00</td>\n",
       "      <td>14.4585</td>\n",
       "    </tr>\n",
       "    <tr>\n",
       "      <th>8</th>\n",
       "      <td>2023-01-01 08:00:00</td>\n",
       "      <td>14.6085</td>\n",
       "    </tr>\n",
       "    <tr>\n",
       "      <th>9</th>\n",
       "      <td>2023-01-01 09:00:00</td>\n",
       "      <td>14.7085</td>\n",
       "    </tr>\n",
       "  </tbody>\n",
       "</table>\n",
       "</div>"
      ]
     },
     "execution_count": 6,
     "metadata": {},
     "output_type": "execute_result"
    }
   ],
   "execution_count": 6
  },
  {
   "metadata": {
    "ExecuteTime": {
     "end_time": "2025-06-02T19:18:56.598569Z",
     "start_time": "2025-06-02T19:18:56.589805Z"
    }
   },
   "cell_type": "code",
   "source": "nan_interpolation_linear(df_na_simulator).head(n=10)",
   "id": "982c9d91733c4643",
   "outputs": [
    {
     "data": {
      "text/plain": [
       "                   ds        y\n",
       "0 2023-01-01 00:00:00  15.3085\n",
       "1 2023-01-01 01:00:00  15.7085\n",
       "2 2023-01-01 02:00:00  15.4585\n",
       "3 2023-01-01 03:00:00  15.2085\n",
       "4 2023-01-01 04:00:00  14.9585\n",
       "5 2023-01-01 05:00:00  14.7085\n",
       "6 2023-01-01 06:00:00  14.4585\n",
       "7 2023-01-01 07:00:00  14.4585\n",
       "8 2023-01-01 08:00:00  14.6085\n",
       "9 2023-01-01 09:00:00  14.7085"
      ],
      "text/html": [
       "<div>\n",
       "<style scoped>\n",
       "    .dataframe tbody tr th:only-of-type {\n",
       "        vertical-align: middle;\n",
       "    }\n",
       "\n",
       "    .dataframe tbody tr th {\n",
       "        vertical-align: top;\n",
       "    }\n",
       "\n",
       "    .dataframe thead th {\n",
       "        text-align: right;\n",
       "    }\n",
       "</style>\n",
       "<table border=\"1\" class=\"dataframe\">\n",
       "  <thead>\n",
       "    <tr style=\"text-align: right;\">\n",
       "      <th></th>\n",
       "      <th>ds</th>\n",
       "      <th>y</th>\n",
       "    </tr>\n",
       "  </thead>\n",
       "  <tbody>\n",
       "    <tr>\n",
       "      <th>0</th>\n",
       "      <td>2023-01-01 00:00:00</td>\n",
       "      <td>15.3085</td>\n",
       "    </tr>\n",
       "    <tr>\n",
       "      <th>1</th>\n",
       "      <td>2023-01-01 01:00:00</td>\n",
       "      <td>15.7085</td>\n",
       "    </tr>\n",
       "    <tr>\n",
       "      <th>2</th>\n",
       "      <td>2023-01-01 02:00:00</td>\n",
       "      <td>15.4585</td>\n",
       "    </tr>\n",
       "    <tr>\n",
       "      <th>3</th>\n",
       "      <td>2023-01-01 03:00:00</td>\n",
       "      <td>15.2085</td>\n",
       "    </tr>\n",
       "    <tr>\n",
       "      <th>4</th>\n",
       "      <td>2023-01-01 04:00:00</td>\n",
       "      <td>14.9585</td>\n",
       "    </tr>\n",
       "    <tr>\n",
       "      <th>5</th>\n",
       "      <td>2023-01-01 05:00:00</td>\n",
       "      <td>14.7085</td>\n",
       "    </tr>\n",
       "    <tr>\n",
       "      <th>6</th>\n",
       "      <td>2023-01-01 06:00:00</td>\n",
       "      <td>14.4585</td>\n",
       "    </tr>\n",
       "    <tr>\n",
       "      <th>7</th>\n",
       "      <td>2023-01-01 07:00:00</td>\n",
       "      <td>14.4585</td>\n",
       "    </tr>\n",
       "    <tr>\n",
       "      <th>8</th>\n",
       "      <td>2023-01-01 08:00:00</td>\n",
       "      <td>14.6085</td>\n",
       "    </tr>\n",
       "    <tr>\n",
       "      <th>9</th>\n",
       "      <td>2023-01-01 09:00:00</td>\n",
       "      <td>14.7085</td>\n",
       "    </tr>\n",
       "  </tbody>\n",
       "</table>\n",
       "</div>"
      ]
     },
     "execution_count": 7,
     "metadata": {},
     "output_type": "execute_result"
    }
   ],
   "execution_count": 7
  },
  {
   "metadata": {},
   "cell_type": "markdown",
   "source": "## Traitement des données",
   "id": "d62a7084b285adb0"
  },
  {
   "metadata": {
    "ExecuteTime": {
     "end_time": "2025-06-02T19:18:56.621148Z",
     "start_time": "2025-06-02T19:18:56.609843Z"
    }
   },
   "cell_type": "code",
   "source": [
    "df_preprocess = df.copy()\n",
    "df_preprocess['ds'] = pd.to_datetime(df_preprocess['ds'])\n",
    "df_preprocess = df_preprocess.set_index('ds')"
   ],
   "id": "852ad0d9dbbe3c26",
   "outputs": [],
   "execution_count": 8
  },
  {
   "metadata": {
    "ExecuteTime": {
     "end_time": "2025-06-02T19:18:56.634826Z",
     "start_time": "2025-06-02T19:18:56.628313Z"
    }
   },
   "cell_type": "code",
   "source": [
    "df_preprocess = nan_interpolation_linear(df_preprocess)\n",
    "df_preprocess.isna().sum()"
   ],
   "id": "4fdc42f9c54e1bb4",
   "outputs": [
    {
     "data": {
      "text/plain": [
       "y    0\n",
       "dtype: int64"
      ]
     },
     "execution_count": 9,
     "metadata": {},
     "output_type": "execute_result"
    }
   ],
   "execution_count": 9
  },
  {
   "metadata": {
    "ExecuteTime": {
     "end_time": "2025-06-02T19:18:56.653106Z",
     "start_time": "2025-06-02T19:18:56.642578Z"
    }
   },
   "cell_type": "code",
   "source": [
    "df_preprocess = df_preprocess.resample('3h').mean()\n",
    "df_preprocess.head()"
   ],
   "id": "f73ed1be1b8fd91",
   "outputs": [
    {
     "data": {
      "text/plain": [
       "                             y\n",
       "ds                            \n",
       "2023-01-01 00:00:00  15.591833\n",
       "2023-01-01 03:00:00  15.425167\n",
       "2023-01-01 06:00:00  14.508500\n",
       "2023-01-01 09:00:00  14.908500\n",
       "2023-01-01 12:00:00  15.091834"
      ],
      "text/html": [
       "<div>\n",
       "<style scoped>\n",
       "    .dataframe tbody tr th:only-of-type {\n",
       "        vertical-align: middle;\n",
       "    }\n",
       "\n",
       "    .dataframe tbody tr th {\n",
       "        vertical-align: top;\n",
       "    }\n",
       "\n",
       "    .dataframe thead th {\n",
       "        text-align: right;\n",
       "    }\n",
       "</style>\n",
       "<table border=\"1\" class=\"dataframe\">\n",
       "  <thead>\n",
       "    <tr style=\"text-align: right;\">\n",
       "      <th></th>\n",
       "      <th>y</th>\n",
       "    </tr>\n",
       "    <tr>\n",
       "      <th>ds</th>\n",
       "      <th></th>\n",
       "    </tr>\n",
       "  </thead>\n",
       "  <tbody>\n",
       "    <tr>\n",
       "      <th>2023-01-01 00:00:00</th>\n",
       "      <td>15.591833</td>\n",
       "    </tr>\n",
       "    <tr>\n",
       "      <th>2023-01-01 03:00:00</th>\n",
       "      <td>15.425167</td>\n",
       "    </tr>\n",
       "    <tr>\n",
       "      <th>2023-01-01 06:00:00</th>\n",
       "      <td>14.508500</td>\n",
       "    </tr>\n",
       "    <tr>\n",
       "      <th>2023-01-01 09:00:00</th>\n",
       "      <td>14.908500</td>\n",
       "    </tr>\n",
       "    <tr>\n",
       "      <th>2023-01-01 12:00:00</th>\n",
       "      <td>15.091834</td>\n",
       "    </tr>\n",
       "  </tbody>\n",
       "</table>\n",
       "</div>"
      ]
     },
     "execution_count": 10,
     "metadata": {},
     "output_type": "execute_result"
    }
   ],
   "execution_count": 10
  },
  {
   "metadata": {
    "ExecuteTime": {
     "end_time": "2025-06-02T19:18:56.694252Z",
     "start_time": "2025-06-02T19:18:56.665716Z"
    }
   },
   "cell_type": "code",
   "source": [
    "df_preprocess = df_preprocess.reset_index()\n",
    "op_repository.insert_data(df_preprocess)"
   ],
   "id": "193ba589ff8001b7",
   "outputs": [],
   "execution_count": 11
  },
  {
   "metadata": {},
   "cell_type": "markdown",
   "source": "## Analyse des données",
   "id": "931340ad8abba216"
  },
  {
   "metadata": {
    "ExecuteTime": {
     "end_time": "2025-06-02T19:18:56.713946Z",
     "start_time": "2025-06-02T19:18:56.699884Z"
    }
   },
   "cell_type": "code",
   "source": "df_for_model= convert_to_dataframe(op_repository.find_all_by_table('data'))",
   "id": "eb85d5fd80cad200",
   "outputs": [],
   "execution_count": 12
  },
  {
   "metadata": {
    "ExecuteTime": {
     "end_time": "2025-06-02T19:18:56.729443Z",
     "start_time": "2025-06-02T19:18:56.720221Z"
    }
   },
   "cell_type": "code",
   "source": "df_for_model.head()",
   "id": "8ec45d1c93661bc1",
   "outputs": [
    {
     "data": {
      "text/plain": [
       "                   ds          y\n",
       "0 2023-01-01 00:00:00  15.591833\n",
       "1 2023-01-01 03:00:00  15.425167\n",
       "2 2023-01-01 06:00:00  14.508500\n",
       "3 2023-01-01 09:00:00  14.708500\n",
       "4 2023-01-01 12:00:00  15.091834"
      ],
      "text/html": [
       "<div>\n",
       "<style scoped>\n",
       "    .dataframe tbody tr th:only-of-type {\n",
       "        vertical-align: middle;\n",
       "    }\n",
       "\n",
       "    .dataframe tbody tr th {\n",
       "        vertical-align: top;\n",
       "    }\n",
       "\n",
       "    .dataframe thead th {\n",
       "        text-align: right;\n",
       "    }\n",
       "</style>\n",
       "<table border=\"1\" class=\"dataframe\">\n",
       "  <thead>\n",
       "    <tr style=\"text-align: right;\">\n",
       "      <th></th>\n",
       "      <th>ds</th>\n",
       "      <th>y</th>\n",
       "    </tr>\n",
       "  </thead>\n",
       "  <tbody>\n",
       "    <tr>\n",
       "      <th>0</th>\n",
       "      <td>2023-01-01 00:00:00</td>\n",
       "      <td>15.591833</td>\n",
       "    </tr>\n",
       "    <tr>\n",
       "      <th>1</th>\n",
       "      <td>2023-01-01 03:00:00</td>\n",
       "      <td>15.425167</td>\n",
       "    </tr>\n",
       "    <tr>\n",
       "      <th>2</th>\n",
       "      <td>2023-01-01 06:00:00</td>\n",
       "      <td>14.508500</td>\n",
       "    </tr>\n",
       "    <tr>\n",
       "      <th>3</th>\n",
       "      <td>2023-01-01 09:00:00</td>\n",
       "      <td>14.708500</td>\n",
       "    </tr>\n",
       "    <tr>\n",
       "      <th>4</th>\n",
       "      <td>2023-01-01 12:00:00</td>\n",
       "      <td>15.091834</td>\n",
       "    </tr>\n",
       "  </tbody>\n",
       "</table>\n",
       "</div>"
      ]
     },
     "execution_count": 13,
     "metadata": {},
     "output_type": "execute_result"
    }
   ],
   "execution_count": 13
  },
  {
   "metadata": {
    "ExecuteTime": {
     "end_time": "2025-06-02T19:18:56.755442Z",
     "start_time": "2025-06-02T19:18:56.743366Z"
    }
   },
   "cell_type": "code",
   "source": "df_for_model.info()",
   "id": "1cc20f69ccaaed99",
   "outputs": [
    {
     "name": "stdout",
     "output_type": "stream",
     "text": [
      "<class 'pandas.core.frame.DataFrame'>\n",
      "RangeIndex: 5848 entries, 0 to 5847\n",
      "Data columns (total 2 columns):\n",
      " #   Column  Non-Null Count  Dtype         \n",
      "---  ------  --------------  -----         \n",
      " 0   ds      5848 non-null   datetime64[ns]\n",
      " 1   y       5848 non-null   float64       \n",
      "dtypes: datetime64[ns](1), float64(1)\n",
      "memory usage: 91.5 KB\n"
     ]
    }
   ],
   "execution_count": 14
  },
  {
   "metadata": {
    "ExecuteTime": {
     "end_time": "2025-06-02T19:18:56.780051Z",
     "start_time": "2025-06-02T19:18:56.768046Z"
    }
   },
   "cell_type": "code",
   "source": "df_for_model.describe()",
   "id": "84a13aeee4b02704",
   "outputs": [
    {
     "data": {
      "text/plain": [
       "                        ds            y\n",
       "count                 5848  5848.000000\n",
       "mean   2024-01-01 10:30:00    11.501375\n",
       "min    2023-01-01 00:00:00   -10.224833\n",
       "25%    2023-07-02 17:15:00     5.358500\n",
       "50%    2024-01-01 10:30:00    10.941833\n",
       "75%    2024-07-02 03:45:00    17.541834\n",
       "max    2024-12-31 21:00:00    34.075165\n",
       "std                    NaN     7.959330"
      ],
      "text/html": [
       "<div>\n",
       "<style scoped>\n",
       "    .dataframe tbody tr th:only-of-type {\n",
       "        vertical-align: middle;\n",
       "    }\n",
       "\n",
       "    .dataframe tbody tr th {\n",
       "        vertical-align: top;\n",
       "    }\n",
       "\n",
       "    .dataframe thead th {\n",
       "        text-align: right;\n",
       "    }\n",
       "</style>\n",
       "<table border=\"1\" class=\"dataframe\">\n",
       "  <thead>\n",
       "    <tr style=\"text-align: right;\">\n",
       "      <th></th>\n",
       "      <th>ds</th>\n",
       "      <th>y</th>\n",
       "    </tr>\n",
       "  </thead>\n",
       "  <tbody>\n",
       "    <tr>\n",
       "      <th>count</th>\n",
       "      <td>5848</td>\n",
       "      <td>5848.000000</td>\n",
       "    </tr>\n",
       "    <tr>\n",
       "      <th>mean</th>\n",
       "      <td>2024-01-01 10:30:00</td>\n",
       "      <td>11.501375</td>\n",
       "    </tr>\n",
       "    <tr>\n",
       "      <th>min</th>\n",
       "      <td>2023-01-01 00:00:00</td>\n",
       "      <td>-10.224833</td>\n",
       "    </tr>\n",
       "    <tr>\n",
       "      <th>25%</th>\n",
       "      <td>2023-07-02 17:15:00</td>\n",
       "      <td>5.358500</td>\n",
       "    </tr>\n",
       "    <tr>\n",
       "      <th>50%</th>\n",
       "      <td>2024-01-01 10:30:00</td>\n",
       "      <td>10.941833</td>\n",
       "    </tr>\n",
       "    <tr>\n",
       "      <th>75%</th>\n",
       "      <td>2024-07-02 03:45:00</td>\n",
       "      <td>17.541834</td>\n",
       "    </tr>\n",
       "    <tr>\n",
       "      <th>max</th>\n",
       "      <td>2024-12-31 21:00:00</td>\n",
       "      <td>34.075165</td>\n",
       "    </tr>\n",
       "    <tr>\n",
       "      <th>std</th>\n",
       "      <td>NaN</td>\n",
       "      <td>7.959330</td>\n",
       "    </tr>\n",
       "  </tbody>\n",
       "</table>\n",
       "</div>"
      ]
     },
     "execution_count": 15,
     "metadata": {},
     "output_type": "execute_result"
    }
   ],
   "execution_count": 15
  },
  {
   "metadata": {
    "ExecuteTime": {
     "end_time": "2025-06-02T19:18:57.287602Z",
     "start_time": "2025-06-02T19:18:56.791556Z"
    }
   },
   "cell_type": "code",
   "source": [
    "import matplotlib.pyplot as plt\n",
    "\n",
    "plt.figure(figsize=(12,5))\n",
    "plt.plot(df_for_model['ds'], df_for_model['y'])\n",
    "plt.xlabel('Date')\n",
    "plt.ylabel('Température')\n",
    "plt.title('Température au cours du temps')\n"
   ],
   "id": "6857dded2f035e47",
   "outputs": [
    {
     "data": {
      "text/plain": [
       "Text(0.5, 1.0, 'Température au cours du temps')"
      ]
     },
     "execution_count": 16,
     "metadata": {},
     "output_type": "execute_result"
    },
    {
     "data": {
      "text/plain": [
       "<Figure size 1200x500 with 1 Axes>"
      ],
      "image/png": "[encoded data removed]"
     },
     "metadata": {},
     "output_type": "display_data"
    }
   ],
   "execution_count": 16
  },
  {
   "metadata": {
    "ExecuteTime": {
     "end_time": "2025-06-02T19:18:57.477672Z",
     "start_time": "2025-06-02T19:18:57.291874Z"
    }
   },
   "cell_type": "code",
   "source": [
    "df_for_model['y'].hist(bins=50)\n",
    "plt.title('Distribution des températures')\n",
    "plt.xlabel('Température')\n",
    "plt.show()"
   ],
   "id": "6639e397fce271a7",
   "outputs": [
    {
     "data": {
      "text/plain": [
       "<Figure size 640x480 with 1 Axes>"
      ],
      "image/png": "[encoded data removed]"
     },
     "metadata": {},
     "output_type": "display_data"
    }
   ],
   "execution_count": 17
  },
  {
   "metadata": {},
   "cell_type": "markdown",
   "source": "Il y a un creux autour de 10°C qui crée une forme de \"double pic\" dans la distribution.",
   "id": "2234de124d6bc669"
  },
  {
   "metadata": {
    "ExecuteTime": {
     "end_time": "2025-06-02T19:18:57.592450Z",
     "start_time": "2025-06-02T19:18:57.484233Z"
    }
   },
   "cell_type": "code",
   "source": [
    "df_hist = df_for_model.copy()\n",
    "# 1. Regarder les données autour de 10°C\n",
    "subset_10 = df_hist[(df_hist['y'] >= 9) & (df_hist['y'] <= 11)]\n",
    "print(f\"Nombre de jours entre 9-11°C : {len(subset_10)}\")\n",
    "\n",
    "# 2. Analyser par mois pour voir si c'est saisonnier\n",
    "df_hist['month'] = pd.to_datetime(df_hist['ds']).dt.month\n",
    "df_hist.groupby('month')['y'].mean().plot(kind='bar')"
   ],
   "id": "48df587b20b6ca2c",
   "outputs": [
    {
     "name": "stdout",
     "output_type": "stream",
     "text": [
      "Nombre de jours entre 9-11°C : 492\n"
     ]
    },
    {
     "data": {
      "text/plain": [
       "<Axes: xlabel='month'>"
      ]
     },
     "execution_count": 18,
     "metadata": {},
     "output_type": "execute_result"
    },
    {
     "data": {
      "text/plain": [
       "<Figure size 640x480 with 1 Axes>"
      ],
      "image/png": "[encoded data removed]"
     },
     "metadata": {},
     "output_type": "display_data"
    }
   ],
   "execution_count": 18
  },
  {
   "metadata": {},
   "cell_type": "markdown",
   "source": "La distribution des températures montre deux pics: un pour les températures froides (hiver) et un pour les températures chaudes (été). Il y a peu de jours autour de 10°C, car on passe rapidement du froid au chaud au fil des saisons. Ce creux est donc normal et reflète bien le climat de la région.",
   "id": "100ef2a067866e87"
  },
  {
   "metadata": {
    "ExecuteTime": {
     "end_time": "2025-06-02T19:18:59.464340Z",
     "start_time": "2025-06-02T19:18:57.603019Z"
    }
   },
   "cell_type": "code",
   "source": [
    "from statsmodels.tsa.seasonal import STL\n",
    "\n",
    "stl = STL(df_for_model['y'], period=365)\n",
    "result = stl.fit()\n",
    "result.plot()\n",
    "plt.show()\n"
   ],
   "id": "b79f2ef1d9c78e2e",
   "outputs": [
    {
     "data": {
      "text/plain": [
       "<Figure size 640x480 with 4 Axes>"
      ],
      "image/png": "[encoded data removed]"
     },
     "metadata": {},
     "output_type": "display_data"
    }
   ],
   "execution_count": 19
  },
  {
   "metadata": {},
   "cell_type": "markdown",
   "source": "STL évite les valeurs manquantes sur les bords et donne une décomposition plus fiable. La saisonnalité est bien extraite avec une amplitude constante, et les résidus sont centrés autour de zéro, ce qui indique une bonne qualité de décomposition.",
   "id": "d3c3b6c38feba930"
  },
  {
   "metadata": {
    "ExecuteTime": {
     "end_time": "2025-06-02T19:18:59.661032Z",
     "start_time": "2025-06-02T19:18:59.471066Z"
    }
   },
   "cell_type": "code",
   "source": [
    "from statsmodels.tsa.stattools import adfuller\n",
    "residus = result.resid.interpolate()\n",
    "\n",
    "check_stationarity(residus)"
   ],
   "id": "3e2b9493218bbf8c",
   "outputs": [
    {
     "name": "stdout",
     "output_type": "stream",
     "text": [
      "\n",
      "════════════════════════════════════════\n",
      "📊 TEST ADF - AUGMENTED DICKEY-FULLER\n",
      "════════════════════════════════════════\n",
      "Hypothèse nulle (H0) : La série a une racine unitaire (non stationnaire)\n",
      "\n",
      "Statistique ADF : -10.4634\n",
      "p-value : 0.0000\n",
      "Valeurs critiques :\n",
      "  1%% : -3.4315\n",
      "  5%% : -2.8620\n",
      "  10%% : -2.5670\n",
      "\n",
      "Conclusion ADF : Stationnaire (α=0.05)\n"
     ]
    },
    {
     "data": {
      "text/plain": [
       "np.True_"
      ]
     },
     "execution_count": 20,
     "metadata": {},
     "output_type": "execute_result"
    }
   ],
   "execution_count": 20
  },
  {
   "metadata": {
    "ExecuteTime": {
     "end_time": "2025-06-02T19:18:59.672025Z",
     "start_time": "2025-06-02T19:18:59.667007Z"
    }
   },
   "cell_type": "code",
   "source": "is_stationary_kpss = check_stationarity_kpss(residus)",
   "id": "b15f51936bfbd249",
   "outputs": [
    {
     "name": "stdout",
     "output_type": "stream",
     "text": [
      "\n",
      "════════════════════════════════════════\n",
      "📈 TEST KPSS - KWiatkowski-Phillips-Schmidt-Shin\n",
      "════════════════════════════════════════\n",
      "Hypothèse nulle (H0) : La série est stationnaire autour d'une constante\n",
      "\n",
      "Statistique KPSS : 0.0381\n",
      "p-value : 0.1000\n",
      "Valeurs critiques :\n",
      "  10%% : 0.3470\n",
      "  5%% : 0.4630\n",
      "  2.5%% : 0.5740\n",
      "  1%% : 0.7390\n",
      "\n",
      "Conclusion KPSS : Stationnaire (α=0.05)\n"
     ]
    }
   ],
   "execution_count": 21
  },
  {
   "metadata": {},
   "cell_type": "markdown",
   "source": "La stationnarité des résidus garantit que les hypothèses de base des modèles de séries temporelles classiques sont respectées, permettant des prévisions fiables.",
   "id": "98b09aad59d64bb"
  },
  {
   "metadata": {},
   "cell_type": "markdown",
   "source": "## Entrainement des models",
   "id": "4a39809d051f802e"
  }
 ],
 "metadata": {
  "kernelspec": {
   "display_name": "Python 3",
   "language": "python",
   "name": "python3"
  },
  "language_info": {
   "codemirror_mode": {
    "name": "ipython",
    "version": 2
   },
   "file_extension": ".py",
   "mimetype": "text/x-python",
   "name": "python",
   "nbconvert_exporter": "python",
   "pygments_lexer": "ipython2",
   "version": "2.7.6"
  }
 },
 "nbformat": 4,
 "nbformat_minor": 5
}
