{
 "cells": [
  {
   "metadata": {
    "ExecuteTime": {
     "end_time": "2025-06-02T14:05:57.358768Z",
     "start_time": "2025-06-02T14:05:56.456898Z"
    }
   },
   "cell_type": "code",
   "source": [
    "import sys\n",
    "\n",
    "import pandas as pd\n",
    "\n",
    "from model.repository.open_meteo_repository import OpenMeteoRepository\n",
    "\n",
    "sys.path.append(\"../../\")  # Remontez au niveau approprié\n",
    "from model.services.open_meteo_service import OpenMeteoService"
   ],
   "id": "c26fe20684586ee6",
   "outputs": [],
   "execution_count": 1
  },
  {
   "metadata": {},
   "cell_type": "markdown",
   "source": "# Exploration et analyse des données - Time Series (ML II)",
   "id": "a54c44510a890ccc"
  },
  {
   "cell_type": "code",
   "id": "initial_id",
   "metadata": {
    "collapsed": true,
    "ExecuteTime": {
     "end_time": "2025-06-02T14:05:57.728368Z",
     "start_time": "2025-06-02T14:05:57.365288Z"
    }
   },
   "source": [
    "openmeteo = OpenMeteoService()\n",
    "hourly = openmeteo.get_meteo()\n",
    "hourly.head()"
   ],
   "outputs": [
    {
     "data": {
      "text/plain": [
       "                 time  temperature_2m\n",
       "0 2023-01-01 00:00:00         15.3085\n",
       "1 2023-01-01 01:00:00         15.7085\n",
       "2 2023-01-01 02:00:00         15.7585\n",
       "3 2023-01-01 03:00:00         15.8585\n",
       "4 2023-01-01 04:00:00         15.8085"
      ],
      "text/html": [
       "<div>\n",
       "<style scoped>\n",
       "    .dataframe tbody tr th:only-of-type {\n",
       "        vertical-align: middle;\n",
       "    }\n",
       "\n",
       "    .dataframe tbody tr th {\n",
       "        vertical-align: top;\n",
       "    }\n",
       "\n",
       "    .dataframe thead th {\n",
       "        text-align: right;\n",
       "    }\n",
       "</style>\n",
       "<table border=\"1\" class=\"dataframe\">\n",
       "  <thead>\n",
       "    <tr style=\"text-align: right;\">\n",
       "      <th></th>\n",
       "      <th>time</th>\n",
       "      <th>temperature_2m</th>\n",
       "    </tr>\n",
       "  </thead>\n",
       "  <tbody>\n",
       "    <tr>\n",
       "      <th>0</th>\n",
       "      <td>2023-01-01 00:00:00</td>\n",
       "      <td>15.3085</td>\n",
       "    </tr>\n",
       "    <tr>\n",
       "      <th>1</th>\n",
       "      <td>2023-01-01 01:00:00</td>\n",
       "      <td>15.7085</td>\n",
       "    </tr>\n",
       "    <tr>\n",
       "      <th>2</th>\n",
       "      <td>2023-01-01 02:00:00</td>\n",
       "      <td>15.7585</td>\n",
       "    </tr>\n",
       "    <tr>\n",
       "      <th>3</th>\n",
       "      <td>2023-01-01 03:00:00</td>\n",
       "      <td>15.8585</td>\n",
       "    </tr>\n",
       "    <tr>\n",
       "      <th>4</th>\n",
       "      <td>2023-01-01 04:00:00</td>\n",
       "      <td>15.8085</td>\n",
       "    </tr>\n",
       "  </tbody>\n",
       "</table>\n",
       "</div>"
      ]
     },
     "execution_count": 2,
     "metadata": {},
     "output_type": "execute_result"
    }
   ],
   "execution_count": 2
  },
  {
   "metadata": {
    "ExecuteTime": {
     "end_time": "2025-06-02T14:07:56.065728Z",
     "start_time": "2025-06-02T14:07:56.060729Z"
    }
   },
   "cell_type": "code",
   "source": [
    "import os\n",
    "\n",
    "op_repository = OpenMeteoRepository()\n",
    "\n",
    "if not os.path.exists('../data/meteo_data.db'):\n",
    "    op_repository.insert_raw_data(hourly)"
   ],
   "id": "45e9b6791f0f8986",
   "outputs": [],
   "execution_count": 6
  },
  {
   "metadata": {},
   "cell_type": "markdown",
   "source": "",
   "id": "21ae1fd8aa4e211e"
  },
  {
   "metadata": {
    "ExecuteTime": {
     "end_time": "2025-06-02T14:11:48.428523Z",
     "start_time": "2025-06-02T14:11:48.382548Z"
    }
   },
   "cell_type": "code",
   "source": [
    "df_row = pd.DataFrame(\n",
    "    op_repository.find_all_by_table('row'),\n",
    "    columns=['id', 'ds', 'y']  # adapte selon ta table\n",
    ").drop(columns=['id'])\n",
    "df_row.head()"
   ],
   "id": "5a617ab52897bad",
   "outputs": [
    {
     "data": {
      "text/plain": [
       "                    ds        y\n",
       "0  2023-01-01T00:00:00  15.3085\n",
       "1  2023-01-01T01:00:00  15.7085\n",
       "2  2023-01-01T02:00:00  15.7585\n",
       "3  2023-01-01T03:00:00  15.8585\n",
       "4  2023-01-01T04:00:00  15.8085"
      ],
      "text/html": [
       "<div>\n",
       "<style scoped>\n",
       "    .dataframe tbody tr th:only-of-type {\n",
       "        vertical-align: middle;\n",
       "    }\n",
       "\n",
       "    .dataframe tbody tr th {\n",
       "        vertical-align: top;\n",
       "    }\n",
       "\n",
       "    .dataframe thead th {\n",
       "        text-align: right;\n",
       "    }\n",
       "</style>\n",
       "<table border=\"1\" class=\"dataframe\">\n",
       "  <thead>\n",
       "    <tr style=\"text-align: right;\">\n",
       "      <th></th>\n",
       "      <th>ds</th>\n",
       "      <th>y</th>\n",
       "    </tr>\n",
       "  </thead>\n",
       "  <tbody>\n",
       "    <tr>\n",
       "      <th>0</th>\n",
       "      <td>2023-01-01T00:00:00</td>\n",
       "      <td>15.3085</td>\n",
       "    </tr>\n",
       "    <tr>\n",
       "      <th>1</th>\n",
       "      <td>2023-01-01T01:00:00</td>\n",
       "      <td>15.7085</td>\n",
       "    </tr>\n",
       "    <tr>\n",
       "      <th>2</th>\n",
       "      <td>2023-01-01T02:00:00</td>\n",
       "      <td>15.7585</td>\n",
       "    </tr>\n",
       "    <tr>\n",
       "      <th>3</th>\n",
       "      <td>2023-01-01T03:00:00</td>\n",
       "      <td>15.8585</td>\n",
       "    </tr>\n",
       "    <tr>\n",
       "      <th>4</th>\n",
       "      <td>2023-01-01T04:00:00</td>\n",
       "      <td>15.8085</td>\n",
       "    </tr>\n",
       "  </tbody>\n",
       "</table>\n",
       "</div>"
      ]
     },
     "execution_count": 13,
     "metadata": {},
     "output_type": "execute_result"
    }
   ],
   "execution_count": 13
  }
 ],
 "metadata": {
  "kernelspec": {
   "display_name": "Python 3",
   "language": "python",
   "name": "python3"
  },
  "language_info": {
   "codemirror_mode": {
    "name": "ipython",
    "version": 2
   },
   "file_extension": ".py",
   "mimetype": "text/x-python",
   "name": "python",
   "nbconvert_exporter": "python",
   "pygments_lexer": "ipython2",
   "version": "2.7.6"
  }
 },
 "nbformat": 4,
 "nbformat_minor": 5
}
